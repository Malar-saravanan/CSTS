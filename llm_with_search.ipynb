{
  "cells": [
    {
      "cell_type": "markdown",
      "metadata": {
        "id": "lbP4kNyA33yw"
      },
      "source": [
        "# Run this in Google Colab\n",
        "\n",
        "<a target=\"_blank\" href=\"https://colab.research.google.com/github/morriswong/hungrydata/blob/main/llm_with_search.ipynb\">\n",
        "  <img src=\"https://colab.research.google.com/assets/colab-badge.svg\" alt=\"Open In Colab\"/>\n",
        "</a>"
      ]
    },
    {
      "cell_type": "code",
      "execution_count": 1,
      "metadata": {
        "vscode": {
          "languageId": "plaintext"
        },
        "id": "EpUZwwuX33yy"
      },
      "outputs": [],
      "source": [
        "%%capture\n",
        "%pip install -qU langchain-groq\n",
        "%pip install -qU langchain\n",
        "%pip install -qU langchain-community\n",
        "%pip install -qU duckduckgo-search"
      ]
    },
    {
      "cell_type": "code",
      "execution_count": 2,
      "metadata": {
        "vscode": {
          "languageId": "plaintext"
        },
        "id": "YgCN4cVA33yy"
      },
      "outputs": [],
      "source": [
        "import os\n",
        "from langchain_groq import ChatGroq\n",
        "from google.colab import userdata\n",
        "\n",
        "os.environ[\"GROQ_API_KEY\"] = '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'\n",
        "\n",
        "llm = ChatGroq(\n",
        "    model=\"mixtral-8x7b-32768\",\n",
        "    temperature=0,\n",
        "    max_tokens=None,\n",
        "    timeout=None,\n",
        "    max_retries=2,\n",
        ")"
      ]
    },
    {
      "cell_type": "code",
      "execution_count": 3,
      "metadata": {
        "vscode": {
          "languageId": "plaintext"
        },
        "colab": {
          "base_uri": "https://localhost:8080/"
        },
        "id": "lJBp1d_A33yz",
        "outputId": "63c272b5-cd2f-4422-de10-95e7098f5581"
      },
      "outputs": [
        {
          "output_type": "stream",
          "name": "stderr",
          "text": [
            "<ipython-input-3-36ae0ca615a1>:15: LangChainDeprecationWarning: LangChain agents will continue to be supported, but it is recommended for new use cases to be built with LangGraph. LangGraph offers a more flexible and full-featured framework for building agents, including support for tool-calling, persistence of state, and human-in-the-loop workflows. For details, refer to the `LangGraph documentation <https://langchain-ai.github.io/langgraph/>`_ as well as guides for `Migrating from AgentExecutor <https://python.langchain.com/docs/how_to/migrate_agent/>`_ and LangGraph's `Pre-built ReAct agent <https://langchain-ai.github.io/langgraph/how-tos/create-react-agent/>`_.\n",
            "  agent = initialize_agent(\n"
          ]
        }
      ],
      "source": [
        "from langchain.agents import initialize_agent\n",
        "from langchain_community.tools import Tool, DuckDuckGoSearchRun, DuckDuckGoSearchResults\n",
        "from langchain.agents import Tool\n",
        "\n",
        "ddg_search = DuckDuckGoSearchResults()\n",
        "\n",
        "tools = [\n",
        "   Tool(\n",
        "       name=\"DuckDuckGo Search\",\n",
        "       func=ddg_search.run,\n",
        "       description=\"Useful to browse information from the Internet.\",\n",
        "   )\n",
        "]\n",
        "\n",
        "agent = initialize_agent(\n",
        "   tools, llm, agent=\"zero-shot-react-description\", verbose=True\n",
        ")"
      ]
    },
    {
      "cell_type": "code",
      "execution_count": 4,
      "metadata": {
        "vscode": {
          "languageId": "plaintext"
        },
        "colab": {
          "base_uri": "https://localhost:8080/",
          "height": 471
        },
        "id": "aCOYodeI33yz",
        "outputId": "d5d424ef-944f-4c52-e33d-5fe610b3a818"
      },
      "outputs": [
        {
          "output_type": "stream",
          "name": "stderr",
          "text": [
            "<ipython-input-4-fe67ccd3f9ea>:7: LangChainDeprecationWarning: The method `Chain.run` was deprecated in langchain 0.1.0 and will be removed in 1.0. Use :meth:`~invoke` instead.\n",
            "  agent.run(\n"
          ]
        },
        {
          "output_type": "stream",
          "name": "stdout",
          "text": [
            "\n",
            "\n",
            "\u001b[1m> Entering new AgentExecutor chain...\u001b[0m\n",
            "\u001b[32;1m\u001b[1;3mTo answer this question, I need to find the weather forecast for London for the next three days. I will use DuckDuckGo Search to find this information.\n",
            "\n",
            "Action: DuckDuckGo Search\n",
            "Action Input: 'Weather forecast London next 3 days'\u001b[0m\n",
            "Observation: \u001b[36;1m\u001b[1;3msnippet: London 7 day weather forecast including weather warnings, temperature, rain, wind, visibility, humidity and UV. Skip to main content. Weather & climate; Research programmes; Services; About us ... 7 day forecast for London. Scroll left Scroll right. Skip to Show full forecast. Today (28 February 2025) Time: 21:00 22:00 23:00 Weather symbols i ..., title: London (Greater London) weather - Met Office, link: https://weather.metoffice.gov.uk/forecast/gcpvj0v07, snippet: Free 30 Day Long Range Weather Forecast for London, England. Enter any city, zip or place. Day Weather Toggle navigation. About; Help; GB London, England THU. Feb 27 07%. 46 to 56 °F. 32 to 42 °F. 5 to 15 °C-3 to 7 °C. Sunrise 6:49 AM. Sunset 5:37 PM. FRI. Feb 28 ..., title: GB London, England - 30 Day Weather, link: https://www.30dayweather.com/en/d/united-kingdom-of-great-britain-and-northern-ireland/england/london/, snippet: Accurate weather forecast in London for 3 days, England. En Es . Widgets for website . Weather worldwide United Kingdom England London . Today Tomorrow 3 Days 7 Days 10 Days Weekend . London Weather Forecast for 3 days, England. Wednesday, 5 February 2025 . Temperature Wind Pressure Humidity Cloudiness; 2 AM +41°F: West, 8 mph: 774 mmHg: 89 % ..., title: London Weather Forecast for 3 days, England - sharpweather.com, link: https://sharpweather.com/weather_london/3_days/, snippet: Daily weather forecast. Today, 26 February, weather in London +46°F. Light intensity drizzle, Moderate Breeze, Southwest 11.9 mph. Atmosphere pressure 29.8 inHg. Relative humidity 83%. Tomorrow's night air temperature will drop to +41°F, wind will change to West 9.2 mph. Pressure will remain unchanged 29.8 inHg., title: London Weather Tomorrow - Accurate and Detailed Forecast (England), link: https://world-weather.info/forecast/united_kingdom/london/\u001b[0m\n",
            "Thought:\u001b[32;1m\u001b[1;3mFrom the search results, it seems like the weather in London for the next three days will be as follows:\n",
            "\n",
            "On Thursday, February 27, the forecast suggests a temperature range of 46 to 56 °F (8 to 13 °C) with a sunrise at 6:49 AM and a sunset at 5:37 PM.\n",
            "\n",
            "On Friday, February 28, the weather seems to be changing with a temperature range of 32 to 42 °F (0 to 5 °C).\n",
            "\n",
            "On the following day, Saturday, February 29, the search results suggest a temperature of around +41°F (5°C) with a moderate breeze from the West.\n",
            "\n",
            "Please note that these are approximate forecasts and for the most accurate information, I would recommend checking a reliable weather forecasting website or service.\n",
            "\n",
            "Final Answer: The weather in London for the next three days is expected to be around 46 to 56 °F (8 to 13 °C) on Thursday, dropping to 32 to 42 °F (0 to 5 °C) on Friday, and then rising to around +41°F (5°C) on Saturday with a moderate breeze from the West.\u001b[0m\n",
            "\n",
            "\u001b[1m> Finished chain.\u001b[0m\n"
          ]
        },
        {
          "output_type": "execute_result",
          "data": {
            "text/plain": [
              "'The weather in London for the next three days is expected to be around 46 to 56 °F (8 to 13 °C) on Thursday, dropping to 32 to 42 °F (0 to 5 °C) on Friday, and then rising to around +41°F (5°C) on Saturday with a moderate breeze from the West.'"
            ],
            "application/vnd.google.colaboratory.intrinsic+json": {
              "type": "string"
            }
          },
          "metadata": {},
          "execution_count": 4
        }
      ],
      "source": [
        "from langchain.agents import initialize_agent\n",
        "\n",
        "agent = initialize_agent(\n",
        "   tools, llm, agent=\"zero-shot-react-description\", verbose=True\n",
        ")\n",
        "\n",
        "agent.run(\n",
        "   \"top 10 competitors  of starbucks india\"\n",
        ")"
      ]
    }
  ],
  "metadata": {
    "language_info": {
      "name": "python"
    },
    "colab": {
      "provenance": []
    },
    "kernelspec": {
      "name": "python3",
      "display_name": "Python 3"
    }
  },
  "nbformat": 4,
  "nbformat_minor": 0
}